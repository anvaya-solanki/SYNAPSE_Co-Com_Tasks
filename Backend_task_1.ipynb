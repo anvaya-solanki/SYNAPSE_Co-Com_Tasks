{
  "nbformat": 4,
  "nbformat_minor": 0,
  "metadata": {
    "colab": {
      "provenance": []
    },
    "kernelspec": {
      "name": "python3",
      "display_name": "Python 3"
    },
    "language_info": {
      "name": "python"
    }
  },
  "cells": [
    {
      "cell_type": "code",
      "execution_count": 1,
      "metadata": {
        "id": "k31ssWJLaW8X"
      },
      "outputs": [],
      "source": [
        "def is_prime(num):\n",
        "    if num < 2:\n",
        "        return False\n",
        "    if num in [2, 3]:\n",
        "        return True\n",
        "    if num % 2 == 0:\n",
        "        return False\n",
        "    i = 3\n",
        "    while i * i <= num:\n",
        "        if num % i == 0:\n",
        "            return False\n",
        "        i += 2\n",
        "    return True\n",
        "\n",
        "def binary_number(num):\n",
        "    return bin(num)[2:]\n",
        "\n",
        "def num_divisors(num):\n",
        "    divisors = []\n",
        "    for i in range(1, num + 1):\n",
        "        if num % i == 0:\n",
        "            divisors.append(i)\n",
        "    return divisors\n",
        "\n",
        "def binary_and_divisors_dict(start, end):\n",
        "    result = {}\n",
        "    for num in range(start, end):\n",
        "        if is_prime(num):\n",
        "            result[num] = binary_number(num)\n",
        "        else:\n",
        "            result[num] = num_divisors(num)\n",
        "    return result"
      ]
    },
    {
      "cell_type": "code",
      "source": [
        "binary_and_divisors_dict(2,8)"
      ],
      "metadata": {
        "colab": {
          "base_uri": "https://localhost:8080/"
        },
        "id": "TWxCQhMXaddw",
        "outputId": "0708fa1a-835f-4d27-bab5-dc0a4f43ef51"
      },
      "execution_count": 2,
      "outputs": [
        {
          "output_type": "execute_result",
          "data": {
            "text/plain": [
              "{2: '10', 3: '11', 4: [1, 2, 4], 5: '101', 6: [1, 2, 3, 6], 7: '111'}"
            ]
          },
          "metadata": {},
          "execution_count": 2
        }
      ]
    }
  ]
}